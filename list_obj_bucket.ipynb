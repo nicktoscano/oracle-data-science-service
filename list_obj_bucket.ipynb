{
 "cells": [
  {
   "cell_type": "code",
   "execution_count": 4,
   "id": "0fd99eaf",
   "metadata": {},
   "outputs": [],
   "source": [
    "import oci\n",
    "import re\n",
    "from oci.config import from_file\n",
    "#from collections import defaultdict"
   ]
  },
  {
   "cell_type": "code",
   "execution_count": 5,
   "id": "5c6260d6",
   "metadata": {},
   "outputs": [],
   "source": [
    "namespace = \"neilpiersoncloud\"  # The OCI namespace for your tenancy\n",
    "bucket_name = \"tunis_images\"  # The name of the bucket you want to list files from\n",
    "config = oci.config.from_file()  # Load the OCI config from the default location\n",
    "object_storage_client = oci.object_storage.ObjectStorageClient(config)"
   ]
  },
  {
   "cell_type": "code",
   "execution_count": 6,
   "id": "6806edd6",
   "metadata": {},
   "outputs": [
    {
     "name": "stdout",
     "output_type": "stream",
     "text": [
      "Total Files  :               30,000\n"
     ]
    }
   ],
   "source": [
    "# start processing\n",
    "count = 0\n",
    "size = 0\n",
    "next_starts_with = None\n",
    "\n",
    "# This regex will capture every section of the path\n",
    "# regex = r\"([^/]+)/\"\n",
    "\n",
    "while True:\n",
    "    response = object_storage_client.list_objects(\n",
    "        namespace,\n",
    "        bucket_name,\n",
    "        start=next_starts_with,\n",
    "        fields=\"size,timeCreated,timeModified,storageTier\",\n",
    "        retry_strategy=oci.retry.DEFAULT_RETRY_STRATEGY,\n",
    "    )\n",
    "    next_starts_with = response.data.next_start_with\n",
    "\n",
    "\n",
    "    #folders = defaultdict(float)\n",
    "    #file_count = defaultdict(int)\n",
    "    \n",
    "    for object_file in response.data.objects:\n",
    "        count += 1\n",
    "#         if not object_file.name.endswith(\"/\"):\n",
    "#             matches = re.findall(regex, object_file.name)\n",
    "#             current_path = \"\"\n",
    "            \n",
    "        continue\n",
    "    \n",
    "    if not next_starts_with:\n",
    "        break\n",
    "\n",
    "#    format_row = \"{:<50} | {:>10} | {:>7}\"\n",
    "\n",
    "# final output\n",
    "print(\"Total Files  : \" + str(\"{:20,.0f}\".format(count)).rjust(20))"
   ]
  },
  {
   "cell_type": "code",
   "execution_count": null,
   "id": "c05f205a",
   "metadata": {},
   "outputs": [],
   "source": [
    "####### END"
   ]
  },
  {
   "cell_type": "code",
   "execution_count": null,
   "id": "681ffee0",
   "metadata": {},
   "outputs": [],
   "source": [
    "            # Loop over each match\n",
    "            for match in matches:\n",
    "                # Concatenate the current match to the current path\n",
    "                current_path += match + \"/\"\n",
    "                # Add the current path to the subpaths\n",
    "                folders[current_path] += object_file.size / 1024\n",
    "                file_count[current_path] += 1\n",
    "\n",
    "            continue"
   ]
  }
 ],
 "metadata": {
  "kernelspec": {
   "display_name": "Python [conda env:vulcanv2_0]",
   "language": "python",
   "name": "conda-env-vulcanv2_0-py"
  },
  "language_info": {
   "codemirror_mode": {
    "name": "ipython",
    "version": 3
   },
   "file_extension": ".py",
   "mimetype": "text/x-python",
   "name": "python",
   "nbconvert_exporter": "python",
   "pygments_lexer": "ipython3",
   "version": "3.7.16"
  }
 },
 "nbformat": 4,
 "nbformat_minor": 5
}
